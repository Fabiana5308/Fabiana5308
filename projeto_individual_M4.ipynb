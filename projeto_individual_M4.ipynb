{
  "nbformat": 4,
  "nbformat_minor": 0,
  "metadata": {
    "colab": {
      "provenance": [],
      "authorship_tag": "ABX9TyMAcCdxJBIRhm/5iaNQ1/pr",
      "include_colab_link": true
    },
    "kernelspec": {
      "name": "python3",
      "display_name": "Python 3"
    },
    "language_info": {
      "name": "python"
    }
  },
  "cells": [
    {
      "cell_type": "markdown",
      "metadata": {
        "id": "view-in-github",
        "colab_type": "text"
      },
      "source": [
        "<a href=\"https://colab.research.google.com/github/Fabiana5308/Fabiana5308/blob/main/projeto_individual_M4.ipynb\" target=\"_parent\"><img src=\"https://colab.research.google.com/assets/colab-badge.svg\" alt=\"Open In Colab\"/></a>"
      ]
    },
    {
      "cell_type": "markdown",
      "source": [
        "#<font color = gren> Relatórios de Progresso"
      ],
      "metadata": {
        "id": "hVyb600OTFZR"
      }
    },
    {
      "cell_type": "code",
      "source": [
        "#Importando bibliotecas\n",
        "\n",
        "import pandas as pd\n",
        "import numpy as np\n",
        "import matplotlib.pyplot as plt"
      ],
      "metadata": {
        "id": "9qhf_PQ2Tavy"
      },
      "execution_count": null,
      "outputs": []
    },
    {
      "cell_type": "code",
      "source": [
        "# os Dados fornecidos\n",
        "\n",
        "informacao = {\n",
        "    'Dias': ['segunda ','terça','quarta','quinta','sexta', 'sabado', 'domingo'],\n",
        "    'Horas Trabalhadas': [9, 7, 6, 8, 8, 7, 5],\n",
        "    'Bugs Corrigidos': [3, 2, 4, 5, 2, 3, 2],\n",
        "    'Tarefas Concluídas': [6, 4, 3, 6, 4, 5, 3]\n",
        "}\n"
      ],
      "metadata": {
        "id": "Kf2ABYn2TzIl"
      },
      "execution_count": null,
      "outputs": []
    },
    {
      "cell_type": "code",
      "source": [
        "# Criando  DataFrame\n",
        "\n",
        "df = pd.DataFrame(informacao)\n",
        "df"
      ],
      "metadata": {
        "colab": {
          "base_uri": "https://localhost:8080/",
          "height": 269
        },
        "id": "Yu_EtpWbUQtK",
        "outputId": "484a9e1d-5b89-4e4b-d7aa-3d36d286c982"
      },
      "execution_count": null,
      "outputs": [
        {
          "output_type": "execute_result",
          "data": {
            "text/plain": [
              "       Dias  Horas Trabalhadas  Bugs Corrigidos  Tarefas Concluídas\n",
              "0  segunda                   9                3                   6\n",
              "1     terça                  7                2                   4\n",
              "2    quarta                  6                4                   3\n",
              "3    quinta                  8                5                   6\n",
              "4     sexta                  8                2                   4\n",
              "5    sabado                  7                3                   5\n",
              "6   domingo                  5                2                   3"
            ],
            "text/html": [
              "\n",
              "\n",
              "  <div id=\"df-6bf69f74-a8ce-417e-a966-879644cfe41f\">\n",
              "    <div class=\"colab-df-container\">\n",
              "      <div>\n",
              "<style scoped>\n",
              "    .dataframe tbody tr th:only-of-type {\n",
              "        vertical-align: middle;\n",
              "    }\n",
              "\n",
              "    .dataframe tbody tr th {\n",
              "        vertical-align: top;\n",
              "    }\n",
              "\n",
              "    .dataframe thead th {\n",
              "        text-align: right;\n",
              "    }\n",
              "</style>\n",
              "<table border=\"1\" class=\"dataframe\">\n",
              "  <thead>\n",
              "    <tr style=\"text-align: right;\">\n",
              "      <th></th>\n",
              "      <th>Dias</th>\n",
              "      <th>Horas Trabalhadas</th>\n",
              "      <th>Bugs Corrigidos</th>\n",
              "      <th>Tarefas Concluídas</th>\n",
              "    </tr>\n",
              "  </thead>\n",
              "  <tbody>\n",
              "    <tr>\n",
              "      <th>0</th>\n",
              "      <td>segunda</td>\n",
              "      <td>9</td>\n",
              "      <td>3</td>\n",
              "      <td>6</td>\n",
              "    </tr>\n",
              "    <tr>\n",
              "      <th>1</th>\n",
              "      <td>terça</td>\n",
              "      <td>7</td>\n",
              "      <td>2</td>\n",
              "      <td>4</td>\n",
              "    </tr>\n",
              "    <tr>\n",
              "      <th>2</th>\n",
              "      <td>quarta</td>\n",
              "      <td>6</td>\n",
              "      <td>4</td>\n",
              "      <td>3</td>\n",
              "    </tr>\n",
              "    <tr>\n",
              "      <th>3</th>\n",
              "      <td>quinta</td>\n",
              "      <td>8</td>\n",
              "      <td>5</td>\n",
              "      <td>6</td>\n",
              "    </tr>\n",
              "    <tr>\n",
              "      <th>4</th>\n",
              "      <td>sexta</td>\n",
              "      <td>8</td>\n",
              "      <td>2</td>\n",
              "      <td>4</td>\n",
              "    </tr>\n",
              "    <tr>\n",
              "      <th>5</th>\n",
              "      <td>sabado</td>\n",
              "      <td>7</td>\n",
              "      <td>3</td>\n",
              "      <td>5</td>\n",
              "    </tr>\n",
              "    <tr>\n",
              "      <th>6</th>\n",
              "      <td>domingo</td>\n",
              "      <td>5</td>\n",
              "      <td>2</td>\n",
              "      <td>3</td>\n",
              "    </tr>\n",
              "  </tbody>\n",
              "</table>\n",
              "</div>\n",
              "      <button class=\"colab-df-convert\" onclick=\"convertToInteractive('df-6bf69f74-a8ce-417e-a966-879644cfe41f')\"\n",
              "              title=\"Convert this dataframe to an interactive table.\"\n",
              "              style=\"display:none;\">\n",
              "\n",
              "  <svg xmlns=\"http://www.w3.org/2000/svg\" height=\"24px\"viewBox=\"0 0 24 24\"\n",
              "       width=\"24px\">\n",
              "    <path d=\"M0 0h24v24H0V0z\" fill=\"none\"/>\n",
              "    <path d=\"M18.56 5.44l.94 2.06.94-2.06 2.06-.94-2.06-.94-.94-2.06-.94 2.06-2.06.94zm-11 1L8.5 8.5l.94-2.06 2.06-.94-2.06-.94L8.5 2.5l-.94 2.06-2.06.94zm10 10l.94 2.06.94-2.06 2.06-.94-2.06-.94-.94-2.06-.94 2.06-2.06.94z\"/><path d=\"M17.41 7.96l-1.37-1.37c-.4-.4-.92-.59-1.43-.59-.52 0-1.04.2-1.43.59L10.3 9.45l-7.72 7.72c-.78.78-.78 2.05 0 2.83L4 21.41c.39.39.9.59 1.41.59.51 0 1.02-.2 1.41-.59l7.78-7.78 2.81-2.81c.8-.78.8-2.07 0-2.86zM5.41 20L4 18.59l7.72-7.72 1.47 1.35L5.41 20z\"/>\n",
              "  </svg>\n",
              "      </button>\n",
              "\n",
              "\n",
              "\n",
              "    <div id=\"df-5747d02e-ade7-402a-b758-ef213a28c302\">\n",
              "      <button class=\"colab-df-quickchart\" onclick=\"quickchart('df-5747d02e-ade7-402a-b758-ef213a28c302')\"\n",
              "              title=\"Suggest charts.\"\n",
              "              style=\"display:none;\">\n",
              "\n",
              "<svg xmlns=\"http://www.w3.org/2000/svg\" height=\"24px\"viewBox=\"0 0 24 24\"\n",
              "     width=\"24px\">\n",
              "    <g>\n",
              "        <path d=\"M19 3H5c-1.1 0-2 .9-2 2v14c0 1.1.9 2 2 2h14c1.1 0 2-.9 2-2V5c0-1.1-.9-2-2-2zM9 17H7v-7h2v7zm4 0h-2V7h2v10zm4 0h-2v-4h2v4z\"/>\n",
              "    </g>\n",
              "</svg>\n",
              "      </button>\n",
              "    </div>\n",
              "\n",
              "<style>\n",
              "  .colab-df-quickchart {\n",
              "    background-color: #E8F0FE;\n",
              "    border: none;\n",
              "    border-radius: 50%;\n",
              "    cursor: pointer;\n",
              "    display: none;\n",
              "    fill: #1967D2;\n",
              "    height: 32px;\n",
              "    padding: 0 0 0 0;\n",
              "    width: 32px;\n",
              "  }\n",
              "\n",
              "  .colab-df-quickchart:hover {\n",
              "    background-color: #E2EBFA;\n",
              "    box-shadow: 0px 1px 2px rgba(60, 64, 67, 0.3), 0px 1px 3px 1px rgba(60, 64, 67, 0.15);\n",
              "    fill: #174EA6;\n",
              "  }\n",
              "\n",
              "  [theme=dark] .colab-df-quickchart {\n",
              "    background-color: #3B4455;\n",
              "    fill: #D2E3FC;\n",
              "  }\n",
              "\n",
              "  [theme=dark] .colab-df-quickchart:hover {\n",
              "    background-color: #434B5C;\n",
              "    box-shadow: 0px 1px 3px 1px rgba(0, 0, 0, 0.15);\n",
              "    filter: drop-shadow(0px 1px 2px rgba(0, 0, 0, 0.3));\n",
              "    fill: #FFFFFF;\n",
              "  }\n",
              "</style>\n",
              "\n",
              "    <script>\n",
              "      async function quickchart(key) {\n",
              "        const containerElement = document.querySelector('#' + key);\n",
              "        const charts = await google.colab.kernel.invokeFunction(\n",
              "            'suggestCharts', [key], {});\n",
              "      }\n",
              "    </script>\n",
              "\n",
              "      <script>\n",
              "\n",
              "function displayQuickchartButton(domScope) {\n",
              "  let quickchartButtonEl =\n",
              "    domScope.querySelector('#df-5747d02e-ade7-402a-b758-ef213a28c302 button.colab-df-quickchart');\n",
              "  quickchartButtonEl.style.display =\n",
              "    google.colab.kernel.accessAllowed ? 'block' : 'none';\n",
              "}\n",
              "\n",
              "        displayQuickchartButton(document);\n",
              "      </script>\n",
              "      <style>\n",
              "    .colab-df-container {\n",
              "      display:flex;\n",
              "      flex-wrap:wrap;\n",
              "      gap: 12px;\n",
              "    }\n",
              "\n",
              "    .colab-df-convert {\n",
              "      background-color: #E8F0FE;\n",
              "      border: none;\n",
              "      border-radius: 50%;\n",
              "      cursor: pointer;\n",
              "      display: none;\n",
              "      fill: #1967D2;\n",
              "      height: 32px;\n",
              "      padding: 0 0 0 0;\n",
              "      width: 32px;\n",
              "    }\n",
              "\n",
              "    .colab-df-convert:hover {\n",
              "      background-color: #E2EBFA;\n",
              "      box-shadow: 0px 1px 2px rgba(60, 64, 67, 0.3), 0px 1px 3px 1px rgba(60, 64, 67, 0.15);\n",
              "      fill: #174EA6;\n",
              "    }\n",
              "\n",
              "    [theme=dark] .colab-df-convert {\n",
              "      background-color: #3B4455;\n",
              "      fill: #D2E3FC;\n",
              "    }\n",
              "\n",
              "    [theme=dark] .colab-df-convert:hover {\n",
              "      background-color: #434B5C;\n",
              "      box-shadow: 0px 1px 3px 1px rgba(0, 0, 0, 0.15);\n",
              "      filter: drop-shadow(0px 1px 2px rgba(0, 0, 0, 0.3));\n",
              "      fill: #FFFFFF;\n",
              "    }\n",
              "  </style>\n",
              "\n",
              "      <script>\n",
              "        const buttonEl =\n",
              "          document.querySelector('#df-6bf69f74-a8ce-417e-a966-879644cfe41f button.colab-df-convert');\n",
              "        buttonEl.style.display =\n",
              "          google.colab.kernel.accessAllowed ? 'block' : 'none';\n",
              "\n",
              "        async function convertToInteractive(key) {\n",
              "          const element = document.querySelector('#df-6bf69f74-a8ce-417e-a966-879644cfe41f');\n",
              "          const dataTable =\n",
              "            await google.colab.kernel.invokeFunction('convertToInteractive',\n",
              "                                                     [key], {});\n",
              "          if (!dataTable) return;\n",
              "\n",
              "          const docLinkHtml = 'Like what you see? Visit the ' +\n",
              "            '<a target=\"_blank\" href=https://colab.research.google.com/notebooks/data_table.ipynb>data table notebook</a>'\n",
              "            + ' to learn more about interactive tables.';\n",
              "          element.innerHTML = '';\n",
              "          dataTable['output_type'] = 'display_data';\n",
              "          await google.colab.output.renderOutput(dataTable, element);\n",
              "          const docLink = document.createElement('div');\n",
              "          docLink.innerHTML = docLinkHtml;\n",
              "          element.appendChild(docLink);\n",
              "        }\n",
              "      </script>\n",
              "    </div>\n",
              "  </div>\n"
            ]
          },
          "metadata": {},
          "execution_count": 78
        }
      ]
    },
    {
      "cell_type": "markdown",
      "source": [
        "* Cálculo das métricas"
      ],
      "metadata": {
        "id": "z0rNW46UcTND"
      }
    },
    {
      "cell_type": "code",
      "source": [
        "df ['Horas Trabalhadas'].sum()"
      ],
      "metadata": {
        "colab": {
          "base_uri": "https://localhost:8080/"
        },
        "id": "Ifz--8j4ausm",
        "outputId": "89fb595c-e86f-4f15-c8b1-4472275c7eae"
      },
      "execution_count": null,
      "outputs": [
        {
          "output_type": "execute_result",
          "data": {
            "text/plain": [
              "50"
            ]
          },
          "metadata": {},
          "execution_count": 79
        }
      ]
    },
    {
      "cell_type": "code",
      "source": [
        "df['Horas Trabalhadas'].mean()"
      ],
      "metadata": {
        "colab": {
          "base_uri": "https://localhost:8080/"
        },
        "id": "xSyfN8D4bevO",
        "outputId": "1fe2c668-c824-4716-9ac0-d80ebc95ca87"
      },
      "execution_count": null,
      "outputs": [
        {
          "output_type": "execute_result",
          "data": {
            "text/plain": [
              "7.142857142857143"
            ]
          },
          "metadata": {},
          "execution_count": 80
        }
      ]
    },
    {
      "cell_type": "code",
      "source": [
        "df['Horas Trabalhadas'].describe()"
      ],
      "metadata": {
        "colab": {
          "base_uri": "https://localhost:8080/"
        },
        "id": "7tNoHQ74dfY8",
        "outputId": "5de55f4e-1fa9-4066-b87b-b95397b177b6"
      },
      "execution_count": null,
      "outputs": [
        {
          "output_type": "execute_result",
          "data": {
            "text/plain": [
              "count    7.000000\n",
              "mean     7.142857\n",
              "std      1.345185\n",
              "min      5.000000\n",
              "25%      6.500000\n",
              "50%      7.000000\n",
              "75%      8.000000\n",
              "max      9.000000\n",
              "Name: Horas Trabalhadas, dtype: float64"
            ]
          },
          "metadata": {},
          "execution_count": 81
        }
      ]
    },
    {
      "cell_type": "code",
      "source": [
        "df['Bugs Corrigidos'].mode()"
      ],
      "metadata": {
        "colab": {
          "base_uri": "https://localhost:8080/"
        },
        "id": "FOWMzZLrpT2c",
        "outputId": "8976339a-0673-4106-9bbe-5f5d2168f05b"
      },
      "execution_count": null,
      "outputs": [
        {
          "output_type": "execute_result",
          "data": {
            "text/plain": [
              "0    2\n",
              "Name: Bugs Corrigidos, dtype: int64"
            ]
          },
          "metadata": {},
          "execution_count": 98
        }
      ]
    },
    {
      "cell_type": "code",
      "source": [
        "df['Bugs Corrigidos'].sum()"
      ],
      "metadata": {
        "colab": {
          "base_uri": "https://localhost:8080/"
        },
        "id": "nk4w8mFkY6Uo",
        "outputId": "0c2c0d4d-f22c-4d93-b7dd-c8c93bec4339"
      },
      "execution_count": null,
      "outputs": [
        {
          "output_type": "execute_result",
          "data": {
            "text/plain": [
              "21"
            ]
          },
          "metadata": {},
          "execution_count": 82
        }
      ]
    },
    {
      "cell_type": "code",
      "source": [
        "df['Bugs Corrigidos'].mean()"
      ],
      "metadata": {
        "colab": {
          "base_uri": "https://localhost:8080/"
        },
        "id": "CdJK3KcEd38f",
        "outputId": "8a1b7ce2-46a6-4cc9-e3cb-ec19501b3008"
      },
      "execution_count": null,
      "outputs": [
        {
          "output_type": "execute_result",
          "data": {
            "text/plain": [
              "3.0"
            ]
          },
          "metadata": {},
          "execution_count": 83
        }
      ]
    },
    {
      "cell_type": "code",
      "source": [
        "df['Tarefas Concluídas'].sum()"
      ],
      "metadata": {
        "colab": {
          "base_uri": "https://localhost:8080/"
        },
        "id": "55veIctbZTeo",
        "outputId": "7020607c-2e7d-428c-ef82-8fa8360c6098"
      },
      "execution_count": null,
      "outputs": [
        {
          "output_type": "execute_result",
          "data": {
            "text/plain": [
              "31"
            ]
          },
          "metadata": {},
          "execution_count": 84
        }
      ]
    },
    {
      "cell_type": "code",
      "source": [
        "df['Tarefas Concluídas'].mean()"
      ],
      "metadata": {
        "colab": {
          "base_uri": "https://localhost:8080/"
        },
        "id": "rCE93DBiezOZ",
        "outputId": "40cb74fc-7292-41a3-c9b3-59882f285c04"
      },
      "execution_count": null,
      "outputs": [
        {
          "output_type": "execute_result",
          "data": {
            "text/plain": [
              "4.428571428571429"
            ]
          },
          "metadata": {},
          "execution_count": 85
        }
      ]
    },
    {
      "cell_type": "code",
      "source": [
        "df['Tarefas Concluídas'] / df['Horas Trabalhadas']"
      ],
      "metadata": {
        "colab": {
          "base_uri": "https://localhost:8080/"
        },
        "id": "G3EMWSjWZc7i",
        "outputId": "b8502020-509c-4f34-b355-39edde0779bf"
      },
      "execution_count": null,
      "outputs": [
        {
          "output_type": "execute_result",
          "data": {
            "text/plain": [
              "0    0.666667\n",
              "1    0.571429\n",
              "2    0.500000\n",
              "3    0.750000\n",
              "4    0.500000\n",
              "5    0.714286\n",
              "6    0.600000\n",
              "dtype: float64"
            ]
          },
          "metadata": {},
          "execution_count": 86
        }
      ]
    },
    {
      "cell_type": "code",
      "source": [
        "relatorio = pd.DataFrame({'Total de horas': df['Horas Trabalhadas']})\n",
        "relatorio"
      ],
      "metadata": {
        "id": "bZ0TeMsbnV82"
      },
      "execution_count": null,
      "outputs": []
    },
    {
      "cell_type": "code",
      "source": [
        "# Adição das métricas ao relatório\n",
        "relatorio = pd.DataFrame({\n",
        "    'Dias': df['Dias'],\n",
        "    'Total de Horas Trabalhadas': df['Horas Trabalhadas'],\n",
        "    'Média Diária de Horas Trabalhadas': media_horas_trabalhadas,\n",
        "    'Total de Bugs Corrigidos': df['Bugs Corrigidos'],\n",
        "    'Média Diária de Bugs Corrigidos': media_bugs_corrigidos,\n",
        "    'Total de Tarefas Concluídas': df['Tarefas Concluídas'],\n",
        "    'Média Diária de Tarefas Concluídas': media_tarefas_concluidas,\n",
        "    'Produtividade Diária': produtividade_diaria\n",
        "})\n",
        "\n",
        "# Exibição do relatório\n",
        "print(relatorio)"
      ],
      "metadata": {
        "colab": {
          "base_uri": "https://localhost:8080/"
        },
        "id": "vBbv0c7hVcCD",
        "outputId": "301291f5-c4a7-4a49-a726-417c9a125f5c"
      },
      "execution_count": null,
      "outputs": [
        {
          "output_type": "stream",
          "name": "stdout",
          "text": [
            "       Dias  Total de Horas Trabalhadas Média Diária de Horas Trabalhadas  \\\n",
            "0  segunda                            9                              7.14   \n",
            "1     terça                           7                              7.14   \n",
            "2    quarta                           6                              7.14   \n",
            "3    quinta                           8                              7.14   \n",
            "4     sexta                           8                              7.14   \n",
            "5    sabado                           7                              7.14   \n",
            "6   domingo                           5                              7.14   \n",
            "\n",
            "   Total de Bugs Corrigidos Média Diária de Bugs Corrigidos  \\\n",
            "0                         3                            2.43   \n",
            "1                         2                            2.43   \n",
            "2                         4                            2.43   \n",
            "3                         5                            2.43   \n",
            "4                         2                            2.43   \n",
            "5                         3                            2.43   \n",
            "6                         2                            2.43   \n",
            "\n",
            "   Total de Tarefas Concluídas Média Diária de Tarefas Concluídas  \\\n",
            "0                            6                               4.43   \n",
            "1                            4                               4.43   \n",
            "2                            3                               4.43   \n",
            "3                            6                               4.43   \n",
            "4                            4                               4.43   \n",
            "5                            5                               4.43   \n",
            "6                            3                               4.43   \n",
            "\n",
            "  Produtividade Diária  \n",
            "0                 0.67  \n",
            "1                 0.57  \n",
            "2                 0.50  \n",
            "3                 0.75  \n",
            "4                 0.50  \n",
            "5                 0.71  \n",
            "6                 0.60  \n"
          ]
        }
      ]
    },
    {
      "cell_type": "code",
      "source": [
        "print(\"Relatório de Progresso Diário do Projeto de Desenvolvimento de Software:\")\n",
        "print(relatorio.to_string(index=False))"
      ],
      "metadata": {
        "colab": {
          "base_uri": "https://localhost:8080/"
        },
        "id": "9zAwDhc4q3rw",
        "outputId": "d390beba-aa27-49f6-826d-d169624e7e9d"
      },
      "execution_count": null,
      "outputs": [
        {
          "output_type": "stream",
          "name": "stdout",
          "text": [
            "Relatório de Progresso Diário do Projeto de Desenvolvimento de Software:\n",
            "    Dias  Total de Horas Trabalhadas Média Diária de Horas Trabalhadas  Total de Bugs Corrigidos Média Diária de Bugs Corrigidos  Total de Tarefas Concluídas Média Diária de Tarefas Concluídas Produtividade Diária\n",
            "segunda                            9                              7.14                         3                            2.43                            6                               4.43                 0.67\n",
            "   terça                           7                              7.14                         2                            2.43                            4                               4.43                 0.57\n",
            "  quarta                           6                              7.14                         4                            2.43                            3                               4.43                 0.50\n",
            "  quinta                           8                              7.14                         5                            2.43                            6                               4.43                 0.75\n",
            "   sexta                           8                              7.14                         2                            2.43                            4                               4.43                 0.50\n",
            "  sabado                           7                              7.14                         3                            2.43                            5                               4.43                 0.71\n",
            " domingo                           5                              7.14                         2                            2.43                            3                               4.43                 0.60\n"
          ]
        }
      ]
    }
  ]
}